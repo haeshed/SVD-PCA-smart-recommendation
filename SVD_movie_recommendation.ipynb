{
  "cells": [
    {
      "cell_type": "markdown",
      "metadata": {
        "id": "fH81b5GUeTDA"
      },
      "source": [
        "# Netflix Recommendation Algorithm\n",
        "\n",
        "<img src=\"https://i.pcmag.com/imagery/reviews/05cItXL96l4LE9n02WfDR0h-5.fit_lim.size_1200x630.v1582751026.png\" width=\"40%\">\n",
        "\n",
        "Do not start the exercise until you fully understand the submission guidelines, which can be found here.\n",
        "\n",
        "For any material-related-questions, ask Ami. For any organization-related-questions, ask Lior.\n",
        "\n",
        "\n",
        "#### **Read the following instructions carefully:**\n",
        "1. Write your functions in this notebook only. Do not create Python modules and import them.\n",
        "Feel free to add code blocks if you need.\n",
        "2. Answers to qualitative questions should be written in markdown cells (with  LATEX  support). Answers that will be written in commented code blocks will not be checked.\n",
        "3. Kind reminder: the total of all exercises weight is 50% of the course's grade!\n",
        "\n",
        "#### **This exercise summarizes the following subjects:**\n",
        "1. **Netflix's recommendation algorithm:**\n",
        "\n",
        "  1.1. Content Filtering\n",
        "\n",
        "  1.2. Collaborative Filtering\n",
        "\n",
        "  1.3. Filling missing values in the Rating Matrix\n",
        "\n",
        "  1.4. Matrix Factorization\n",
        "\n",
        "  1.5. Data correlation finding approaches: SVD, PCA\n",
        "\n",
        "\n",
        "2. **Applications of SVD and PCA:**\n",
        "\n",
        "  2.1. Face images compression and recognition using PCA\n",
        "\n",
        "  2.2. Hand written digits recognition using SVD/PCA\n",
        "\n",
        "  2.3. Correlations detection of mutations in the genom and different populations using SVD/PCA\n"
      ]
    },
    {
      "cell_type": "markdown",
      "metadata": {
        "id": "_F1ruETfeTDA",
        "nbgrader": {
          "grade": false,
          "grade_id": "cell-916f46de8cde2ca7",
          "locked": true,
          "schema_version": 1,
          "solution": false
        }
      },
      "source": [
        "# Part 1: Netflix's Recommendation Algorithm\n",
        "\n",
        "We demonstrated in class how to find similar movies (and recommend movies to a user, similar to a movie he likes), using **Ratings Matrix** where a list of users partially rated a list of movies. In class, we demonstarted 2 ways to handle the Rating Matrix using Excel sheets:\n",
        "\n",
        "1. Calculate similarities (distances) between movies using the 1 to 5 rating values.\n",
        "2. Turn the Rating Matrix into a **boolean** matrix where R(i,j)=TRUE if User i rated movie j above some threshold TH (1<=TH<=5).\n",
        "Note that if TH=1 we get a rating matrix where **any** rating of a movie become TRUE in the boolean rating matrix. As mentioned in class, even such elementary representation is, supresingly, good data to work with."
      ]
    },
    {
      "cell_type": "code",
      "execution_count": 1,
      "metadata": {
        "id": "1yEDwjKeeTDA",
        "nbgrader": {
          "grade": false,
          "grade_id": "cell-5ed0076cec86f623",
          "locked": true,
          "schema_version": 1,
          "solution": false
        }
      },
      "outputs": [],
      "source": [
        "# All imports\n",
        "import numpy as np\n",
        "import matplotlib.pyplot as plt\n",
        "import csv\n",
        "import pandas as pd\n",
        "from sklearn.metrics import mean_squared_error\n",
        "\n",
        "import zipfile\n",
        "import cv2\n",
        "import numpy as np\n",
        "from matplotlib import pyplot as plt\n",
        "from sklearn.decomposition import PCA\n",
        "\n",
        "# make matplotlib figures appear inline in the notebook\n",
        "%matplotlib inline\n",
        "plt.rcParams['figure.figsize'] = (14.0, 8.0) # set default size of plots\n",
        "plt.rcParams['image.interpolation'] = 'nearest'\n",
        "plt.rcParams['image.cmap'] = 'gray'\n",
        "\n",
        "# Add more imports if necessary:"
      ]
    },
    {
      "cell_type": "markdown",
      "metadata": {
        "id": "w8G2-uuIeTDB"
      },
      "source": [
        "## Question 1 (20 points)\n",
        "\n",
        "In this question you will write a code that, based on the students' rating matrix (attached to the homework assignment file: our_course_ratings.csv), generates recommendations Ratings Matrix as demonstrated in class.\n",
        "\n",
        "1.1 Write a function `read_matrix()` that reads `our_course_ratings.csv` file into memory. Do not forget to ignore null values.\n",
        "  * `our_course_ratings.csv` file is a matrix where each cell contains the rating that student `j` rated movie `i`.\n",
        "\n",
        "1.2 Write a function `create_boolean_matrix()` that converts our rating matrix into a 1/0 matrix.\n",
        "\n",
        "1.3 Write a function `recommendation_alg()`:\n",
        "* The function should prompt the user to enter the first letter of a movie they like.\n",
        "* Validate the user input to ensure it is a single letter.\n",
        "* Display a list of movies whose names start with the entered letter.\n",
        "* Ask the user to choose a movie from the list.\n",
        "* Calculate movie recommendations based on the chosen movie.\n",
        "* Print and return a list of k recommended movie names.\n",
        "\n",
        "1.4 Test your results and run `recommendation_alg()` 3 times:\n",
        "* Choose the movie **Harry Potter and the Deathly Hallows, Part 2 (2011)**.\n",
        "* Choose the movie **Star Wars: Episode IV - A New Hope (1977)**.\n",
        "* Choose your **favorite movies** (one for each student)."
      ]
    },
    {
      "cell_type": "code",
      "execution_count": 2,
      "metadata": {
        "id": "Y1dqAKF3m5iV"
      },
      "outputs": [],
      "source": [
        "def read_matrix(matrix):\n",
        "  \"\"\"\n",
        "  Reads a rating matrix from a CSV file, performs preprocessing, and returns the matrix along with movie names and student names.\n",
        "\n",
        "  Params:\n",
        "  - matrix: The CSV file containing the rating matrix.\n",
        "\n",
        "  Return:\n",
        "  - A tuple (M, moviesNames, studentsNames) where M is the rating matrix, moviesNames is a series of movie names, and studentsNames is a list of student names.\n",
        "  \"\"\"\n",
        "  lines = []\n",
        "  with open(matrix, newline='') as f:\n",
        "    spamreader = csv.reader(f)\n",
        "    for row in spamreader:\n",
        "        lines.append(row)\n",
        "\n",
        "  students = lines[0][2:]\n",
        "  movies = []\n",
        "  rating_matrix = []\n",
        "\n",
        "  for ratings in lines[3:]:\n",
        "    movies.append(ratings[1])\n",
        "    rating_matrix.append([int(rating) if rating.isnumeric() else None for rating in ratings[2:]])\n",
        "\n",
        "  return rating_matrix, movies, students\n",
        "\n",
        "M, moviesNames, studentsNames = read_matrix('our_course_ratings.csv')"
      ]
    },
    {
      "cell_type": "code",
      "execution_count": 3,
      "metadata": {
        "id": "Y_Esr_YDoUOc"
      },
      "outputs": [],
      "source": [
        "def create_boolean_matrix(matrix, TH = 3):\n",
        "  \"\"\"\n",
        "  Creates a boolean matrix from the given input matrix by setting values below the threshold (TH) to 0 and others to 1.\n",
        "\n",
        "  Params:\n",
        "  - matrix: The input matrix to be converted into a boolean matrix.\n",
        "  - TH: The threshold value; values less than TH are set to 0, and others to 1.\n",
        "\n",
        "  Returns:\n",
        "  - The boolean matrix with the same shape as the input matrix.\n",
        "  \"\"\"\n",
        "  return [[\n",
        "      0 if rating is None or rating < TH else 1\n",
        "      for rating in movie_ratings\n",
        "  ] for movie_ratings in matrix]\n",
        "\n",
        "bool_M = create_boolean_matrix(M)"
      ]
    },
    {
      "cell_type": "code",
      "execution_count": 4,
      "metadata": {
        "colab": {
          "base_uri": "https://localhost:8080/"
        },
        "id": "Vn4GaaMoshM3",
        "outputId": "57f33ed8-c822-4cd2-ca89-f282c8ce9e0f"
      },
      "outputs": [
        {
          "name": "stdout",
          "output_type": "stream",
          "text": [
            "\n",
            "\n",
            "Enter the first letter of the movie:\n"
          ]
        },
        {
          "name": "stdout",
          "output_type": "stream",
          "text": [
            "\n",
            "\n",
            "Please select one of:\n",
            "Harry Potter and the Deathly Hallows, Part 2 (2011)\n",
            "Harry Potter and the Sorcerer's Stone (2001)\n",
            "Harry Potter and the Deathly Hallows, Part 1 (2010)\n",
            "Harry Potter and the Order of the Phoenix (2007)\n",
            "Harry Potter and the Half-Blood Prince (2009)\n",
            "Harry Potter and the Goblet of Fire (2005)\n",
            "Harry Potter and the Chamber of Secrets (2002)\n",
            "Hi, Mom (2021)\n",
            "Harry Potter and the Prisoner of Azkaban (2004)\n",
            "Harakiri (1962)\n",
            "High and Low (1963)\n",
            "Hamilton (2020)\n",
            "Heat (1995)\n",
            "Howl's Moving Castle (2004)\n",
            "Harry Potter and the Deathly Hallows: Part 2 (2011)\n",
            "Hacksaw Ridge (2016)\n",
            "How to Train Your Dragon (2010)\n",
            "Hotel Rwanda (2004)\n",
            "Hachi: A Dog's Tale (2009)\n",
            "\n",
            "\n",
            "Please select one of:\n",
            "Harry Potter and the Deathly Hallows, Part 2 (2011)\n",
            "Harry Potter and the Sorcerer's Stone (2001)\n",
            "Harry Potter and the Deathly Hallows, Part 1 (2010)\n",
            "Harry Potter and the Order of the Phoenix (2007)\n",
            "Harry Potter and the Half-Blood Prince (2009)\n",
            "Harry Potter and the Goblet of Fire (2005)\n",
            "Harry Potter and the Chamber of Secrets (2002)\n",
            "Hi, Mom (2021)\n",
            "Harry Potter and the Prisoner of Azkaban (2004)\n",
            "Harakiri (1962)\n",
            "High and Low (1963)\n",
            "Hamilton (2020)\n",
            "Heat (1995)\n",
            "Howl's Moving Castle (2004)\n",
            "Harry Potter and the Deathly Hallows: Part 2 (2011)\n",
            "Hacksaw Ridge (2016)\n",
            "How to Train Your Dragon (2010)\n",
            "Hotel Rwanda (2004)\n",
            "Hachi: A Dog's Tale (2009)\n",
            "\n",
            "\n",
            "You have selected: 'Harry Potter and the Goblet of Fire (2005)'\n",
            "Suggestions = ['Harry Potter and the Order of the Phoenix (2007)', 'Harry Potter and the Chamber of Secrets (2002)', 'Harry Potter and the Deathly Hallows, Part 1 (2010)']\n",
            "\n",
            "\n",
            "Enter the first letter of the movie:\n",
            "\n",
            "\n",
            "Please select one of:\n",
            "Kill Bill: 1 (2003)\n",
            "Kill Bill: 2 (2004)\n",
            "Klaus (2019)\n",
            "\n",
            "\n",
            "You have selected: 'Kill Bill: 1 (2003)'\n",
            "Suggestions = ['Kill Bill: 2 (2004)', 'Batman Begins (2005)', 'The Usual Suspects (1995)']\n",
            "\n",
            "\n",
            "Enter the first letter of the movie:\n",
            "\n",
            "\n",
            "Please select one of:\n",
            "Titanic (1997)\n",
            "The Lion King (2019)\n",
            "Top Gun: Maverick (2022)\n",
            "The Fate of the Furious (2017)\n",
            "The Lord of the Rings: The Return of the King (2003)\n",
            "Transformers: Dark of the Moon (2011)\n",
            "Transformers: Age of Extinction (2014)\n",
            "The Dark Knight Rises (2012)\n",
            "Toy Story 4 (2019)\n",
            "Toy Story 3 (2010)\n",
            "The Lion King (1994)\n",
            "The Hobbit: An Unexpected Journey (2012)\n",
            "The Dark Knight (2008)\n",
            "The Jungle Book (2016)\n",
            "The Hobbit: The Battle of the Five Armies (2014)\n",
            "The Hobbit: The Desolation of Smaug (2013)\n",
            "The Lord of the Rings: The Two Towers (2002)\n",
            "The Battle at Lake Changjin (2021, China)\n",
            "The Lord of the Rings: The Fellowship of the Ring (2001)\n",
            "The Secret Life of Pets (2016)\n",
            "The Hunger Games: Catching Fire (2013)\n",
            "Thor: Ragnarok (2017)\n",
            "Transformers: Revenge of the Fallen (2009)\n",
            "The Twilight Saga: Breaking Dawn, Part 2 (2012)\n",
            "The Shawshank Redemption (1994)\n",
            "The Godfather (1972)\n",
            "The Godfather Part II (1974)\n",
            "The Good, the Bad and the Ugly (1966)\n",
            "The Matrix (1999)\n",
            "The Silence of the Lambs (1991)\n",
            "The Green Mile (1999)\n",
            "Terminator 2: Judgment Day (1991)\n",
            "The Pianist (2002)\n",
            "The Departed (2006)\n",
            "The Usual Suspects (1995)\n",
            "The Prestige (2006)\n",
            "The Intouchables (2011)\n",
            "The Lives of Others (2006)\n",
            "The Great Dictator (1940)\n",
            "The Shining (1980)\n",
            "Toy Story (1995)\n",
            "The Boat (1981)\n",
            "The Hunt (2012)\n",
            "The Apartment (1960)\n",
            "The Sting (1973)\n",
            "To Kill a Mockingbird (1962)\n",
            "Taxi Driver (1976)\n",
            "The Kid (1921)\n",
            "The Father (2020)\n",
            "The Wolf of Wall Street (2013)\n",
            "There Will Be Blood (2007)\n",
            "The Truman Show (1998)\n",
            "The Sixth Sense (1999)\n",
            "The Treasure of the Sierra Madre (1948)\n",
            "The Great Escape (1963)\n",
            "The Thing (1982)\n",
            "The Elephant Man (1980)\n",
            "The Secret in Their Eyes (2009)\n",
            "The Bridge on the River Kwai (1957)\n",
            "Three Billboards Outside Ebbing, Missouri (2017)\n",
            "Trainspotting (1996)\n",
            "The Gold Rush (1925)\n",
            "The Third Man (1949)\n",
            "The General (1926)\n",
            "The Grand Budapest Hotel (2014)\n",
            "The Deer Hunter (1978)\n",
            "The Wages of Fear (1953)\n",
            "The Seventh Seal (1957)\n",
            "The Big Lebowski (1998)\n",
            "The Passion of Joan of Arc (1928)\n",
            "Tokyo Story (1953)\n",
            "The Terminator (1984)\n",
            "The Wizard of Oz (1939)\n",
            "The Exorcist (1973)\n",
            "The Best Years of Our Lives (1946)\n",
            "The Incredibles (2004)\n",
            "To Be or Not to Be (1942)\n",
            "The Battle of Algiers (1966)\n",
            "The Grapes of Wrath (1940)\n",
            "The 400 Blows (1959)\n",
            "The Handmaiden (2016)\n",
            "The Sound of Music (1965)\n",
            "The Help (2011)\n",
            "The Iron Giant (1999)\n",
            "\n",
            "\n",
            "You have selected: 'The Sound of Music (1965)'\n",
            "Suggestions = ['12 Angry Men (1957)', 'The Intouchables (2011)', \"Singin' in the Rain (1952)\"]\n"
          ]
        }
      ],
      "source": [
        "def recommendation_alg(M, moviesNames, TH=3, k: int = 3):\n",
        "    \"\"\"\n",
        "    Receives a movie the user likes and returns k other movies he might like.\n",
        "\n",
        "    Params:\n",
        "    - M: a ratings matrix\n",
        "    - moviesNames: a movie names matrix\n",
        "    - TH: the threshold value\n",
        "    - k: number of best results to return\n",
        "\n",
        "    Returns:\n",
        "    - k other movies he might like, by names, not ids\n",
        "    \"\"\"\n",
        "    selected_movie = get_movie_name(moviesNames)\n",
        "    selected_movie_index = next(index for index, movie in enumerate(moviesNames) if movie == selected_movie)\n",
        "\n",
        "    binary_rating_matrix = create_boolean_matrix(M, TH)\n",
        "    selected_movie_ratings = binary_rating_matrix[selected_movie_index]\n",
        "\n",
        "    movies_by_similarity = sorted(\n",
        "        (mean_square_error(selected_movie_ratings, other_movie_ratings), movie_index)\n",
        "        for movie_index, other_movie_ratings in enumerate(binary_rating_matrix)\n",
        "        if not movie_index == selected_movie_index\n",
        "    )\n",
        "\n",
        "    return [\n",
        "        moviesNames[index] for (_d, index) in movies_by_similarity[:k]\n",
        "    ]\n",
        "\n",
        "\n",
        "def get_movie_name(movieNames):\n",
        "  first_letter_of_movie = None\n",
        "\n",
        "  while not first_letter_of_movie:\n",
        "    print(\"\\n\\nEnter the first letter of the movie:\")\n",
        "    user_input = input()\n",
        "\n",
        "    if len(user_input) == 1:\n",
        "      first_letter_of_movie = user_input\n",
        "\n",
        "  options = [movie for movie in movieNames if movie.lower().startswith(first_letter_of_movie.lower())]\n",
        "  options_string = '\\n'.join(options)\n",
        "\n",
        "  movie_selected = None\n",
        "\n",
        "  while not movie_selected:\n",
        "    print(f\"\\n\\nPlease select one of:\\n{options_string}\")\n",
        "    user_input = input()\n",
        "\n",
        "    if user_input in options:\n",
        "      movie_selected = user_input\n",
        "\n",
        "  print(f\"\\n\\nYou have selected: '{movie_selected}'\")\n",
        "\n",
        "  return movie_selected\n",
        "\n",
        "\n",
        "def mean_square_error(movie1_ratings, movie2_ratings):\n",
        "  return sum((rating1 - rating2) ** 2 for (rating1, rating2) in zip(movie1_ratings, movie2_ratings)) / len(movie1_ratings)\n",
        "\n",
        "# Test the content filtering recommendation algorithm\n",
        "suggestions = recommendation_alg(M, moviesNames, k=3)\n",
        "print(f\"Suggestions = {suggestions}\")\n",
        "\n",
        "suggestions = recommendation_alg(M, moviesNames, k=3)\n",
        "print(f\"Suggestions = {suggestions}\")\n",
        "\n",
        "suggestions = recommendation_alg(M, moviesNames, k=3)\n",
        "print(f\"Suggestions = {suggestions}\")"
      ]
    },
    {
      "cell_type": "markdown",
      "metadata": {
        "id": "qGQxANIOeTDD"
      },
      "source": [
        "## Question 2 (40 points)\n",
        "\n",
        "In this question you will write some functions that, using SVD analysis of the rating matrix, does the following 3 tasks:\n",
        "1. Show X=3 movies most similar to a certain movie.\n",
        "1. Shows X=3 users most similar to a certain user.\n",
        "1. Recommend X=3 movies to a user based on the vector representing the user preferences in martix $V^T$ and the movies data in matrix $U$.\n",
        "\n",
        "\n",
        "You can look at the following implementations of SVD analysis to make sure your write the SVD analysis correct ([1](https://analyticsindiamag.com/singular-value-decomposition-svd-application-recommender-system/)) , ([2](https://www.section.io/engineering-education/singular-value-decomposition-in-python/))."
      ]
    },
    {
      "cell_type": "markdown",
      "metadata": {
        "id": "FUpBTSsqyd6B"
      },
      "source": [
        "##### **2.1 Write a function `calculateSpecificRating()` that performs matrix factorization (SVD) to calculate the specific rating of a user for a movie (5 points).**\n",
        "\n",
        "Follow the steps below:\n",
        "\n",
        "   * Ensure correct usage of the original rating matrix, $M$.\n",
        "   \n",
        "   $M$ should have **users** as its **columns** and **movies** as its **rows**.\n",
        "\n",
        "   * You are allowed to use built-in Python functions to perform SVD on the ratings matrix $M$.\n",
        "\n",
        "   * Calculate column i=1 of $M$, using the obtained matrices $U, S, V$ and compare the results to the original $M$.\n",
        "\n",
        "   * Calculate row j=15 of $M$ using the matrices $U, S, V$ and compare the results to the original $M$.\n",
        "\n",
        "   Note: If the printed values are **not exactly** the same as the original rating matrix column and row, do **not** proceed. Check your code and fix any discrepancies."
      ]
    },
    {
      "cell_type": "code",
      "execution_count": 5,
      "metadata": {
        "id": "xwq773fiX4Pp"
      },
      "outputs": [],
      "source": [
        "# print(type(M))\n",
        "# print(type(M[0]))\n",
        "# print(np.shape(M))\n",
        "# print(np.ndim(M))\n",
        "\n",
        "def convert_to_numpy_array(M):\n",
        "    \"\"\"\n",
        "    Converts a matrix to a numpy array.\n",
        "\n",
        "    Params:\n",
        "    - M: The matrix to be converted.\n",
        "\n",
        "    Returns:\n",
        "    - The converted numpy array.\n",
        "    \"\"\"\n",
        "    max_length = max(len(row) for row in M)\n",
        "    nested_list = [row + [None] * (max_length - len(row)) for row in M]\n",
        "\n",
        "    nested_array = np.array(nested_list, dtype=object)\n",
        "    nested_array= nested_array.astype('float')\n",
        "    nested_array=np.nan_to_num(nested_array, nan=0)\n",
        "    nested_array= nested_array.astype('uint8')\n",
        "    return nested_array\n",
        "\n",
        "M_numpy=convert_to_numpy_array(M)\n",
        "\n",
        "# print(type(M_numpy))\n",
        "# print(M_numpy[41, 0])\n",
        "# print(np.shape(M_numpy))\n",
        "# print(np.ndim(M_numpy))\n"
      ]
    },
    {
      "cell_type": "code",
      "execution_count": 6,
      "metadata": {
        "colab": {
          "base_uri": "https://localhost:8080/"
        },
        "id": "tG_Oda7rzLzg",
        "outputId": "597873e6-9cf3-4eb1-f696-b14ec7a2b903"
      },
      "outputs": [
        {
          "data": {
            "text/plain": [
              "5"
            ]
          },
          "execution_count": 6,
          "metadata": {},
          "output_type": "execute_result"
        }
      ],
      "source": [
        "U, S, V = np.linalg.svd(M_numpy, full_matrices=True)\n",
        "\n",
        "def calculateSpecificRating(U, S, V, row, column):\n",
        "    \"\"\"\n",
        "    Calculate the specific rating of a user for a movie using SVD.\n",
        "\n",
        "    Params:\n",
        "    - U: Left singular vector matrix\n",
        "    - S: Singular values matrix\n",
        "    - V: Right singular vector matrix\n",
        "    - row: Index of the movie\n",
        "    - column: Index of the user\n",
        "\n",
        "    Returns:\n",
        "    - The calculated rating for the user at the specified column to the movie at the specified row.\n",
        "    \"\"\"\n",
        "    return calculateMatrix(U, S, V)[row][column]\n",
        "\n",
        "def calculateSpecificRatingFromMatrix(M, row, column):\n",
        "    \"\"\"\n",
        "    Calculate the specific rating of a user for a movie using SVD.\n",
        "\n",
        "    Params:\n",
        "    - U: Left singular vector matrix\n",
        "    - S: Singular values matrix\n",
        "    - V: Right singular vector matrix\n",
        "    - row: Index of the movie\n",
        "    - column: Index of the user\n",
        "\n",
        "    Returns:\n",
        "    - The calculated rating for the user at the specified column to the movie at the specified row.\n",
        "    \"\"\"\n",
        "    return M[row][column]\n",
        "\n",
        "\n",
        "def calculateMatrix(U, S, V):\n",
        "    \"\"\"\n",
        "    Calculate the specific rating of a user for a movie using SVD.\n",
        "\n",
        "    Params:\n",
        "    - U: Left singular vector matrix\n",
        "    - S: Singular values matrix\n",
        "    - V: Right singular vector matrix\n",
        "    - row: Index of the movie\n",
        "    - column: Index of the user\n",
        "\n",
        "    Returns:\n",
        "    - The calculated rating for the user at the specified column to the movie at the specified row.\n",
        "    \"\"\"\n",
        "\n",
        "    smat = np.zeros((U.shape[0], V.shape[0]))\n",
        "    smat[:V.shape[0], :V.shape[0]] = np.diag(S)\n",
        "    SV = np.dot(smat,V)\n",
        "    return np.round(np.dot(U, SV)).astype('uint8')\n",
        "\n",
        "calculateSpecificRating(U, S, V, 2, 3)\n",
        "# calculateMatrix(U, S, V)\n"
      ]
    },
    {
      "cell_type": "code",
      "execution_count": 7,
      "metadata": {
        "id": "RpmfLNlwzaXb"
      },
      "outputs": [],
      "source": [
        "def compareArr(arr1, arr2):\n",
        "    return np.allclose(arr1, arr2)"
      ]
    },
    {
      "cell_type": "code",
      "execution_count": 8,
      "metadata": {
        "colab": {
          "base_uri": "https://localhost:8080/"
        },
        "id": "Cr_hEKFWzbCF",
        "outputId": "ccc94816-fce4-4ef9-80ed-489f62538e6a"
      },
      "outputs": [
        {
          "name": "stdout",
          "output_type": "stream",
          "text": [
            "comparison to col1:  True\n",
            "comparison to row15:  True\n"
          ]
        }
      ],
      "source": [
        "col1 = []\n",
        "col1=calculateMatrix(U, S, V)[:,1]\n",
        "print(\"comparison to col1: \", compareArr(col1, M_numpy[:,1]))\n",
        "\n",
        "row15 = []\n",
        "row15=calculateMatrix(U, S, V)[15,:]\n",
        "print(\"comparison to row15: \", compareArr(row15, M_numpy[15,:]))"
      ]
    },
    {
      "cell_type": "code",
      "execution_count": 9,
      "metadata": {
        "colab": {
          "base_uri": "https://localhost:8080/"
        },
        "id": "HlT2ii6Dzp1t",
        "outputId": "8d9c7c30-8c2a-4cff-8926-f776975bae7b"
      },
      "outputs": [
        {
          "name": "stdout",
          "output_type": "stream",
          "text": [
            "The value at M[0,1] is: 3, and the value of the function at (0,1) is: 3\n",
            "The value at M[0,0] is: 4, and the value of the function at (0,0) is: 4\n",
            "The value at M[1,8] is: 5, and the value of the function at (1,8) is: 5\n"
          ]
        }
      ],
      "source": [
        "# These should print the exact same values:\n",
        "print(f'The value at M[0,1] is: {M_numpy[0,1]}, and the value of the function at (0,1) is: {calculateSpecificRating(U, S, V, 0, 1)}')\n",
        "print(f'The value at M[0,0] is: {M_numpy[0,0]}, and the value of the function at (0,0) is: {calculateSpecificRating(U, S, V, 0, 0)}')\n",
        "print(f'The value at M[1,8] is: {M_numpy[1,8]}, and the value of the function at (1,8) is: {calculateSpecificRating(U, S, V, 1, 8)}')"
      ]
    },
    {
      "cell_type": "markdown",
      "metadata": {
        "id": "8lPp3R1J0_8o"
      },
      "source": [
        "##### **2.2 Implementing SVD Analysis (25 points)**\n",
        "\n",
        "* Write a function `cutSVD()` that receives matrices $U, S, V$ and an integer `k` and returns the cut matrices $U_{cut}, S_{cut}, V_{cut}$. Ensure that these matrices are cut to the desired size as explained in the class presentation.\n",
        "\n",
        "* Write a function `dist()` to calculate the similarity of two vectors `x` and `y`. Choose either `Mean Squared Error (MSE)` or `L1 norm` as the similarity metric.\n",
        "\n",
        "* Write a function `similarMovies()` that receives cut matrices $U_{cut}, S_{cut}, V_{cut}$, a `movie ID`, and an integer `x`. It returns a list of `x`movies most similar to the specified movie based on the SVD analysis.\n",
        "\n",
        "* Write a function `similarUsers()` that receives cut matrices $U_{cut}, S_{cut}, V_{cut}$, a `user ID`, and an integer `x`. It returns a list of `x` users most similar to the specified user based on the SVD analysis.\n",
        "\n",
        "* Write a function `SVDFullRecomendationAlgo()` that receives cut matrices $U_{cut}, S_{cut}, V_{cut}$, a `user ID`, and an integer `x`. It returns a list of `x` movies most recommended to the specified user based on all users' preferences in the cut matrices."
      ]
    },
    {
      "cell_type": "code",
      "execution_count": 10,
      "metadata": {
        "id": "LUBFXXk8eTDE"
      },
      "outputs": [],
      "source": [
        "def cutSVD(U, S, V, k):\n",
        "    \"\"\"\n",
        "    Cuts the SVD matrices U, S, and V to keep the first k columns of U,\n",
        "    the first k singular values of S, and the first k rows of V.\n",
        "\n",
        "    Params:\n",
        "    - U: U part of SVD\n",
        "    - S: S part of SVD\n",
        "    - V: V part of SVD\n",
        "    - k: how many parameters from the original matrices to keep\n",
        "\n",
        "    Returns:\n",
        "    - U_cut, S_cut, V_cut: cut matrices to the desired size\n",
        "    \"\"\"\n",
        "    return U[:, :k], S[:k], V[:k, :]\n"
      ]
    },
    {
      "cell_type": "code",
      "execution_count": 11,
      "metadata": {
        "id": "jWQ3WyAUeTDE"
      },
      "outputs": [],
      "source": [
        "def dist(x, y):\n",
        "    \"\"\"\n",
        "    Calculates the similarity of 2 movies/users using Mean Squared Error (MSE).\n",
        "\n",
        "    Params:\n",
        "    - x: movies/users\n",
        "    - y: movies/users\n",
        "\n",
        "    Returns:\n",
        "    - distance/similarity score\n",
        "    \"\"\"\n",
        "\n",
        "    return mean_squared_error(x, y)"
      ]
    },
    {
      "cell_type": "code",
      "execution_count": 12,
      "metadata": {
        "id": "XvwdofPmeTDE"
      },
      "outputs": [],
      "source": [
        "def similarMovies(U_cut, S_cut, V_cut, moviesNames, movie_id, x = 3):\n",
        "    \"\"\"\n",
        "    Receives a movie the user likes and returns x movies he might also like.\n",
        "\n",
        "    Params:\n",
        "    - U_cut, S_cut, V_cut: the SVD presentation of the ratings matrix M,\n",
        "      after it was cut using cutSVD(U, S, V, k)\n",
        "    - movie_id: the id of the movie the user likes\n",
        "    - x: number of best results to return\n",
        "\n",
        "    Returns:\n",
        "    - x other movies he might like, by names, not ids\n",
        "    \"\"\"\n",
        "    recommendations = []\n",
        "    movie_index = moviesNames.index(movie_id)\n",
        "    movie_ratings = U_cut[movie_index, :]\n",
        "    for i in range(len(U_cut[:, 0])):\n",
        "        if i != movie_index:\n",
        "            recommendations.append((dist(movie_ratings, U_cut[i, :]), moviesNames[i]))\n",
        "    recommendations.sort()\n",
        "    recommendations = recommendations[:x]\n",
        "    recommendations = [rec[1] for rec in recommendations]\n",
        "\n",
        "    assert type(recommendations) is list\n",
        "    assert type(recommendations[0]) is str\n",
        "    return recommendations"
      ]
    },
    {
      "cell_type": "code",
      "execution_count": 13,
      "metadata": {
        "id": "jrJW5qxleTDE"
      },
      "outputs": [],
      "source": [
        "def similarUsers(U_cut, S_cut, V_cut, studentsNames, user_id, x = 3):\n",
        "    \"\"\"\n",
        "    Receives a user_id the user likes and returns x other users most similar to this user.\n",
        "\n",
        "    Params:\n",
        "    - U_cut, S_cut, V_cut: the SVD presentation of the ratings matrix M,\n",
        "      after it was cut using cutSVD(U, S, V, k)\n",
        "    - user_id: the id of the user analyzed\n",
        "    - x: number of best results to return\n",
        "\n",
        "    Returns:\n",
        "    - x other users most similar to the user, by names, not ids\n",
        "    \"\"\"\n",
        "    recommendations = []\n",
        "\n",
        "    user_index = studentsNames.index(user_id)\n",
        "    user_ratings = V_cut[:, user_index]\n",
        "\n",
        "    for i in range(len(V_cut[0])):\n",
        "        if i != user_index:\n",
        "            recommendations.append((dist(user_ratings, V_cut[:, i]), studentsNames[i]))\n",
        "    recommendations.sort()\n",
        "    recommendations = recommendations[:x]\n",
        "    recommendations = [rec[1] for rec in recommendations]\n",
        "\n",
        "    assert type(recommendations) is list\n",
        "    assert type(recommendations[0]) is str\n",
        "    return recommendations\n"
      ]
    },
    {
      "cell_type": "code",
      "execution_count": 14,
      "metadata": {
        "id": "cZJY3be3eTDF"
      },
      "outputs": [],
      "source": [
        "def SVDFullRecomendationAlgo(U_cut, S_cut, V_cut, user_id, moviesNames, x = 3):\n",
        "    \"\"\"\n",
        "    Receives a user_id and returns x movies most recommended to this user\n",
        "    Based on ALL the users' preferences as represented in the cut-U-S-V matrices.\n",
        "\n",
        "    Params:\n",
        "    - U_cut, S_cut, V_cut: the SVD presentation of the ratings matrix M,\n",
        "      after it was cut using cutSVD(U, S, V, k)\n",
        "    - user_id: the id of the user analyzed\n",
        "    - x: number of best results to return\n",
        "\n",
        "    Returns:\n",
        "    - x most recommended movies he might like, by names, not ids\n",
        "    \"\"\"\n",
        "    M_approx = np.matmul(np.matmul(U_cut, np.diag(S_cut)), V_cut)\n",
        "    user_movie_ratings = M_approx[:, user_id]\n",
        "    recommendations = [\n",
        "        moviesNames[rec[1]]\n",
        "        for rec in sorted(\n",
        "            ((rating, i) for i, rating in enumerate(user_movie_ratings)),\n",
        "            reverse=True\n",
        "        )\n",
        "    ]\n",
        "\n",
        "    assert type(recommendations) is list\n",
        "    assert type(recommendations[0]) is str\n",
        "    return recommendations[:x]"
      ]
    },
    {
      "cell_type": "markdown",
      "metadata": {
        "id": "FUp5nXTF3yLG"
      },
      "source": [
        "##### **2.3 Implementing recommendation algorithm using k-elements of SVD analysis of the rating matrix (5 points)**\n",
        "\n",
        "Let's bring everything together by utilizing `cutSVD()` on the matrices $U, S, V$ to retain only the 1st `k`-columns of $U$, the first `k`-scalars of $S$, and the first `k`-rows of $V$.\n",
        "\n",
        "Set `k = 10` as a parameter in the code.\n",
        "\n",
        "Use the cut matrices $U_{cut}, S_{cut}, V_{cut}$ to perform the following tasks:\n",
        "\n",
        "* Display $x=3$ movies most similar to a certain movie. If the results are not as in question #1, try changing the value of $k$ and see how it affects the results. Provide a brief discussion of the results.\n",
        "\n",
        "* Display $x=3$ users most similar to a certain user (choose yourself as the user and compare to the rest of the class to you). If the results are not as in question #1, try changing the value of $k$ and see how it affects the results. Discuss briefly the observed changes.\n",
        "\n",
        "* Recommend $x=3$ movies to a user based on the vector representing the user preferences in matrix $V^T$ and the movies' data in matrix $U$."
      ]
    },
    {
      "cell_type": "code",
      "execution_count": 15,
      "metadata": {
        "colab": {
          "base_uri": "https://localhost:8080/"
        },
        "id": "3C-Ct4GV4lWg",
        "outputId": "69cfcc2b-7367-41ef-bde4-2624fc9a19a6"
      },
      "outputs": [
        {
          "name": "stdout",
          "output_type": "stream",
          "text": [
            "(334, 10) (10,) (10, 60)\n",
            "Similar movies:\n",
            "['Harry Potter and the Half-Blood Prince (2009)', \"Harry Potter and the Sorcerer's Stone (2001)\", 'Harry Potter and the Deathly Hallows, Part 1 (2010)']\n",
            "Similar users:\n",
            "['Adi Z', 'Daniella Z', 'Yuval D']\n",
            "Recommendations to user:\n",
            "['The Lion King (2019)', 'Harry Potter and the Deathly Hallows, Part 2 (2011)', 'Titanic (1997)']\n"
          ]
        }
      ],
      "source": [
        "k = 10\n",
        "\n",
        "U_cut, S_cut, V_cut = cutSVD(U, S, V, k)\n",
        "print(U_cut.shape, S_cut.shape, V_cut.shape)\n",
        "\n",
        "print(\"Similar movies:\")\n",
        "print(similarMovies(U_cut, S_cut, V_cut, moviesNames, \"Harry Potter and the Deathly Hallows, Part 2 (2011)\", x = 3))\n",
        "print(\"Similar users:\")\n",
        "print(similarUsers(U_cut, S_cut, V_cut, studentsNames, \"Dor S\", x = 3))\n",
        "print(\"Recommendations to user:\")\n",
        "print(SVDFullRecomendationAlgo(U_cut, S_cut, V_cut, np.where(np.array(studentsNames) == 'Dor S'), moviesNames, x = 3))"
      ]
    },
    {
      "cell_type": "markdown",
      "metadata": {
        "id": "oOr0E5MeeTDF",
        "nbgrader": {
          "grade": false,
          "grade_id": "cell-6966afc155aa6616",
          "locked": true,
          "schema_version": 1,
          "solution": false
        }
      },
      "source": [
        "##### **2.4 Comparisings and discussion (5 points)**\n",
        "Submit the same ids as in 1.2 and show the results with the k-cut SVD method.\n",
        "\n",
        "Discuss the difference bewtween the outputs here and from question 1.\n",
        "\n",
        "How many values from the SVD decomposition (ie: what minimum k) gives answers as good as, or better, than the results using the code from question 1?"
      ]
    },
    {
      "cell_type": "markdown",
      "metadata": {
        "id": "X3ZkhmIxeTDF"
      },
      "source": [
        "##### **Answer:**\n",
        "Very low k starting around 5 already gives reasonable results, that are about as good as the code from question 1. The main difference here is that the data we are calculating over is much more compact, making the SVD method more efficient for approximation results."
      ]
    }
  ],
  "metadata": {
    "celltoolbar": "Create Assignment",
    "colab": {
      "provenance": []
    },
    "kernelspec": {
      "display_name": "Python 3 (ipykernel)",
      "language": "python",
      "name": "python3"
    },
    "language_info": {
      "codemirror_mode": {
        "name": "ipython",
        "version": 3
      },
      "file_extension": ".py",
      "mimetype": "text/x-python",
      "name": "python",
      "nbconvert_exporter": "python",
      "pygments_lexer": "ipython3",
      "version": "3.10.11"
    }
  },
  "nbformat": 4,
  "nbformat_minor": 0
}
